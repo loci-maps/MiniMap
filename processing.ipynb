{
 "cells": [
  {
   "cell_type": "code",
   "execution_count": 152,
   "metadata": {},
   "outputs": [],
   "source": [
    "import json\n",
    "import numpy as np\n",
    "import pandas as pd\n",
    "from sklearn.preprocessing import StandardScaler\n",
    "from sklearn.decomposition import PCA\n",
    "from sklearn.manifold import TSNE\n",
    "from scipy.cluster.hierarchy import dendrogram, linkage, cut_tree, is_valid_linkage\n",
    "from scipy.spatial import Voronoi, voronoi_plot_2d\n",
    "import matplotlib.pyplot as plt\n",
    "import pickle as pkl\n",
    "import geojson"
   ]
  },
  {
   "attachments": {},
   "cell_type": "markdown",
   "metadata": {},
   "source": [
    "# Load Embeddings → PCA-5\n"
   ]
  },
  {
   "cell_type": "code",
   "execution_count": 153,
   "metadata": {},
   "outputs": [],
   "source": [
    "with open(\"data/og/embeddings.json\") as f:\n",
    "    embeddings = json.load(f)\n",
    "\n",
    "vectors = list(embeddings.values())\n",
    "embeddings_array = np.array(vectors)\n",
    "\n",
    "scaler = StandardScaler()\n",
    "scaled_embeddings = scaler.fit_transform(embeddings_array)\n",
    "\n",
    "n_components = 5\n",
    "pca = PCA(n_components=n_components)\n",
    "reduced_embeddings = pca.fit_transform(scaled_embeddings)\n",
    "\n",
    "reduced_dict = {}\n",
    "\n",
    "# Iterate over the filenames and corresponding reduced vectors\n",
    "for filename, vector in zip(embeddings.keys(), reduced_embeddings):\n",
    "    reduced_dict[filename] = vector.tolist()\n",
    "\n",
    "with open('data/pca5_embeddings.json', 'w') as f:\n",
    "    json.dump(reduced_dict, f)"
   ]
  },
  {
   "cell_type": "code",
   "execution_count": 154,
   "metadata": {},
   "outputs": [],
   "source": [
    "with open(\"data/og/embeddings.json\") as f:\n",
    "    embeddings = json.load(f)\n",
    "\n",
    "vectors = list(embeddings.values())\n",
    "embeddings_array = np.array(vectors)\n",
    "\n",
    "scaler = StandardScaler()\n",
    "scaled_embeddings = scaler.fit_transform(embeddings_array)\n",
    "\n",
    "tsne = TSNE(n_components=5, method='exact', random_state=42)\n",
    "reduced_embeddings = tsne.fit_transform(scaled_embeddings)\n",
    "\n",
    "reduced_dict = {}\n",
    "\n",
    "# Iterate over the filenames and corresponding reduced vectors\n",
    "for filename, vector in zip(embeddings.keys(), reduced_embeddings):\n",
    "    reduced_dict[filename] = vector.tolist()\n",
    "\n",
    "with open('data/tsne5_embeddings.json', 'w') as f:\n",
    "    json.dump(reduced_dict, f)"
   ]
  },
  {
   "cell_type": "code",
   "execution_count": 155,
   "metadata": {},
   "outputs": [],
   "source": [
    "embeddings_values = list(embeddings.values())\n",
    "Z = linkage(embeddings_values)\n",
    "\n",
    "max_layers = 12\n",
    "clusters = cut_tree(Z, n_clusters=max_layers)"
   ]
  },
  {
   "attachments": {},
   "cell_type": "markdown",
   "metadata": {},
   "source": [
    "# Load Linkage Labels"
   ]
  },
  {
   "cell_type": "code",
   "execution_count": 156,
   "metadata": {},
   "outputs": [
    {
     "data": {
      "text/plain": [
       "[399.0,\n",
       " 594.0,\n",
       " 0.42786448395325166,\n",
       " 3.0,\n",
       " 'Alchemy - France.',\n",
       " ['Book - Philosophy - Alchemy', 'France- (or French)'],\n",
       " array([0])]"
      ]
     },
     "execution_count": 156,
     "metadata": {},
     "output_type": "execute_result"
    }
   ],
   "source": [
    "# Add cluster labels to linkage_labels\n",
    "with open('data/og/LinkageLabels2.pkl', 'rb') as f:\n",
    "    linkage_labels = pkl.load(f)\n",
    "\n",
    "linkage_labels = [row + [cluster] for row, cluster in zip(linkage_labels, clusters)]\n",
    "linkage_labels[0]"
   ]
  },
  {
   "cell_type": "code",
   "execution_count": 157,
   "metadata": {},
   "outputs": [
    {
     "name": "stdout",
     "output_type": "stream",
     "text": [
      "[26.0, 27.0, 0.5664157072383881, 2.0, 'Inflation risk.', ['Economics: Hyperinflation.', 'Inflation warning.'], array([0])]\n"
     ]
    }
   ],
   "source": [
    "# find cluster with highest cluster children (root)\n",
    "max_children = 0\n",
    "root = 0\n",
    "for i in range(len(linkage_labels)):\n",
    "    if int(linkage_labels[i][3]) == 2:\n",
    "        max_children = int(linkage_labels[i][3])\n",
    "        root = i\n",
    "\n",
    "print(linkage_labels[root])"
   ]
  },
  {
   "cell_type": "code",
   "execution_count": 158,
   "metadata": {},
   "outputs": [],
   "source": [
    "# find row that contains \"Create a programming language.md\"\n",
    "for i in range(len(linkage_labels)):\n",
    "    if \"Create a programming language.md\" == linkage_labels[i][4] or \"Create a programming language.md\" in linkage_labels[i][5]:\n",
    "        print(linkage_labels[i])"
   ]
  },
  {
   "attachments": {},
   "cell_type": "markdown",
   "metadata": {},
   "source": [
    "# Layer (.geojson) Generation for MapBox"
   ]
  },
  {
   "attachments": {},
   "cell_type": "markdown",
   "metadata": {},
   "source": [
    "### Formatting final layer with all files"
   ]
  },
  {
   "cell_type": "code",
   "execution_count": 159,
   "metadata": {},
   "outputs": [],
   "source": [
    "def normalize_embeddings(embeddings_dict):\n",
    "    embeddings = list(embeddings_dict.values())\n",
    "\n",
    "    # find max values\n",
    "    max0 = 0\n",
    "    max1 = 0\n",
    "    max2 = 0\n",
    "    max3 = 0\n",
    "    max4 = 0\n",
    "    for i in range(len(embeddings)):\n",
    "        if abs(embeddings[i][0]) > max0:\n",
    "            max0 = abs(embeddings[i][0])\n",
    "        if abs(embeddings[i][1]) > max1:\n",
    "            max1 = abs(embeddings[i][1])\n",
    "        if abs(embeddings[i][2]) > max2:\n",
    "            max2 = abs(embeddings[i][2])\n",
    "        if abs(embeddings[i][3]) > max3:\n",
    "            max3 = abs(embeddings[i][3])\n",
    "        if abs(embeddings[i][4]) > max4:\n",
    "            max4 = abs(embeddings[i][4])\n",
    "\n",
    "    # normalize, for indexes 2, 3, 4  raise the negatives to 0 and the positives to 256 and have the appropriate range inbetween, 0 goes to 128\n",
    "    for i in range(len(embeddings)):\n",
    "        embeddings[i][0] = embeddings[i][0] / max0\n",
    "        embeddings[i][1] = embeddings[i][1] / max1\n",
    "        embeddings[i][2] = (embeddings[i][2] / max2) * 128 + 128\n",
    "        embeddings[i][3] = (embeddings[i][3] / max3) * 128 + 128\n",
    "        embeddings[i][4] = (embeddings[i][4] / max4) * 128 + 128\n",
    "\n",
    "    return dict(zip(embeddings_dict.keys(), embeddings))\n",
    "\n",
    "\n",
    "with open('data/tsne5_embeddings.json') as f:\n",
    "    tsne5 = json.load(f)\n",
    "\n",
    "tsne5_normalized = normalize_embeddings(tsne5)\n",
    "\n",
    "with open('data/pca5_embeddings.json') as f:\n",
    "    pca5 = json.load(f)\n",
    "\n",
    "pca5_normalized = normalize_embeddings(pca5)"
   ]
  },
  {
   "cell_type": "code",
   "execution_count": 160,
   "metadata": {},
   "outputs": [],
   "source": [
    "def create_final_layer_geojson(reduced_embeddings):\n",
    "    features = []\n",
    "    \n",
    "    for label, coords_rgb in reduced_embeddings.items():\n",
    "        # Extract x, y location and RGB values from coords_rgb\n",
    "        x, y = coords_rgb[:2]\n",
    "        rgb = coords_rgb[2:]\n",
    "        \n",
    "        # Create a GeoJSON feature for each label\n",
    "        feature = {\n",
    "            \"type\": \"Feature\",\n",
    "            \"properties\": {\n",
    "                \"label\": label,\n",
    "                \"color\": f\"rgb({rgb[0]}, {rgb[1]}, {rgb[2]})\"\n",
    "            },\n",
    "            \"geometry\": {\n",
    "                \"type\": \"Point\",\n",
    "                \"coordinates\": [x, y]\n",
    "            }\n",
    "        }\n",
    "        \n",
    "        features.append(feature)\n",
    "    \n",
    "    # Create the GeoJSON object\n",
    "    geojson = {\n",
    "        \"type\": \"FeatureCollection\",\n",
    "        \"features\": features\n",
    "    }\n",
    "    \n",
    "    return json.dumps(geojson, indent=4)\n",
    "\n",
    "\n",
    "result = create_final_layer_geojson(tsne5_normalized)\n",
    "with open('data/layers/tsne5_final_layer.geojson', 'w') as f:\n",
    "    f.write(result)\n",
    "\n",
    "result = create_final_layer_geojson(pca5_normalized)\n",
    "with open('data/layers/pca5_final_layer.geojson', 'w') as f:\n",
    "    f.write(result)"
   ]
  },
  {
   "attachments": {},
   "cell_type": "markdown",
   "metadata": {},
   "source": [
    "## Voronoi GeoJSON"
   ]
  },
  {
   "cell_type": "code",
   "execution_count": 201,
   "metadata": {},
   "outputs": [],
   "source": [
    "def calculate_polygon_area(points):\n",
    "    n = len(points)\n",
    "    if n < 3:\n",
    "        raise ValueError(\"Polygon must have at least 3 points.\")\n",
    "\n",
    "    # Ensure the polygon is closed (first and last points are the same)\n",
    "    if not np.array_equal(points[0], points[-1]):\n",
    "        points = np.vstack([points, points[0]])\n",
    "\n",
    "    area = 0.0\n",
    "    for i in range(n):\n",
    "        area += (points[i, 0] * points[i + 1, 1]) - (points[i + 1, 0] * points[i, 1])\n",
    "\n",
    "    return abs(area / 2.0)\n",
    "\n",
    "def make_voronoi_geojson(polygons, min_zoom, max_zoom):\n",
    "    features = []\n",
    "    for polygon in polygons:\n",
    "        feature = {\n",
    "            \"type\": \"Feature\",\n",
    "            \"properties\": {\n",
    "                \"min_zoom\": min_zoom,\n",
    "                \"max_zoom\": max_zoom\n",
    "            },\n",
    "            \"geometry\": {\n",
    "                \"type\": \"Polygon\",\n",
    "                \"coordinates\": [polygon]\n",
    "            }\n",
    "        }\n",
    "        features.append(feature)\n",
    "\n",
    "    geojson = {\n",
    "        \"type\": \"FeatureCollection\",\n",
    "        \"features\": features\n",
    "    }\n",
    "    return geojson\n",
    "\n",
    "points = [x[:2] for x in list(pca5_normalized.values())]\n",
    "\n",
    "# Compute Voronoi diagram\n",
    "vor = Voronoi(points)\n",
    "\n",
    "polygons = []\n",
    "for region in vor.regions:\n",
    "    if -1 not in region and len(region) > 0:\n",
    "        polygon = [vor.vertices[i] for i in region]\n",
    "        p_list = []\n",
    "        for point in polygon:\n",
    "            p_list.append([point[0], point[1]])\n",
    "        polygons.append(p_list)\n",
    "\n",
    "geojson = make_voronoi_geojson(polygons, 5, 22)\n",
    "with open('data/layers/pca5_voronoi.geojson', 'w') as f:\n",
    "    f.write(json.dumps(geojson, indent=4))\n",
    "\n",
    "# split polygons into big and small by 25% percentile\n",
    "# areas = []\n",
    "# for polygon in polygons:\n",
    "#     areas.append(calculate_polygon_area(polygon))\n",
    "\n",
    "# median = np.percentile(areas, 80)\n",
    "# big_polygons = []\n",
    "# small_polygons = []\n",
    "# for i in range(len(polygons)):\n",
    "#     if areas[i] > median:\n",
    "#         big_polygons.append(polygons[i])\n",
    "#     else:\n",
    "#         small_polygons.append(polygons[i])\n",
    "\n",
    "\n",
    "\n",
    "# geojson = make_voronoi_geojson(big_polygons, 5, 22)\n",
    "# with open('data/layers/pca5_voronoi_big.geojson', 'w') as f:\n",
    "#     f.write(json.dumps(geojson, indent=4))\n",
    "\n",
    "# geojson = make_voronoi_geojson(small_polygons, 9, 22)\n",
    "# with open('data/layers/pca5_voronoi_small.geojson', 'w') as f:\n",
    "#     f.write(json.dumps(geojson, indent=4))"
   ]
  },
  {
   "attachments": {},
   "cell_type": "markdown",
   "metadata": {},
   "source": []
  }
 ],
 "metadata": {
  "kernelspec": {
   "display_name": "Python 3",
   "language": "python",
   "name": "python3"
  },
  "language_info": {
   "codemirror_mode": {
    "name": "ipython",
    "version": 3
   },
   "file_extension": ".py",
   "mimetype": "text/x-python",
   "name": "python",
   "nbconvert_exporter": "python",
   "pygments_lexer": "ipython3",
   "version": "3.11.3"
  },
  "orig_nbformat": 4
 },
 "nbformat": 4,
 "nbformat_minor": 2
}
