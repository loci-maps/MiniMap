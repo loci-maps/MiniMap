{
 "cells": [
  {
   "cell_type": "code",
   "execution_count": 7,
   "metadata": {},
   "outputs": [],
   "source": [
    "import json\n",
    "import numpy as np\n",
    "import pandas as pd\n",
    "from scipy.cluster.hierarchy import linkage, cut_tree, fcluster\n",
    "import pickle as pkl"
   ]
  },
  {
   "cell_type": "code",
   "execution_count": 8,
   "metadata": {},
   "outputs": [],
   "source": [
    "with open(\"data/og/embeddings.json\") as f:\n",
    "    embeddings = json.load(f)\n",
    "\n",
    "reverse_embeddings = {}\n",
    "for i in range(len(embeddings.keys())):\n",
    "    reverse_embeddings[tuple(list(embeddings.values())[i])] = list(embeddings.keys())[i]\n",
    "\n",
    "with open(\"data/og/openai_summaries_2\", \"rb\") as fp:\n",
    "    summaries = pkl.load(fp)"
   ]
  },
  {
   "cell_type": "code",
   "execution_count": 9,
   "metadata": {},
   "outputs": [],
   "source": [
    "with open('data/og/LinkageLabels2.pkl', 'rb') as f:\n",
    "    linkage_labels = pkl.load(f)\n",
    "\n",
    "with open('data/pca5_normalized.json') as f:\n",
    "    pca5_normalized = json.load(f)"
   ]
  },
  {
   "cell_type": "code",
   "execution_count": 10,
   "metadata": {},
   "outputs": [],
   "source": [
    "# https://joernhees.de/blog/2015/08/26/scipy-hierarchical-clustering-and-dendrogram-tutorial/\n",
    "#  Creates value of links, such as color, by blending together leaf values\n",
    "def create_link_values(linkage_matrix, leaf_values,\n",
    "                    merge_function = lambda cluster1_val, cluster2_val, weight: cluster1_val * (1 - weight) + cluster2_val * weight,\n",
    "                    weight_function = lambda cluster1_size, cluster2_size: cluster2_size / (cluster1_size + cluster2_size)):\n",
    "    # Merge function takes val1, val2, and a weight (0-1, 0 preferences val1, 1 preferences val2) and returns a merged value\n",
    "\n",
    "    num_leaves = len(leaf_values)\n",
    "    \n",
    "    new_values = leaf_values.copy()\n",
    "    for row in linkage_matrix:\n",
    "        cluster1_id = int(row[0])\n",
    "        cluster2_id = int(row[1])\n",
    "\n",
    "        if cluster1_id < num_leaves: # it is a sample/leaaf\n",
    "            cluster1_size = 1\n",
    "        else:\n",
    "            cluster1_size = linkage_matrix[num_leaves - cluster1_id][-1]\n",
    "        \n",
    "        if cluster2_id < num_leaves: # it is a sample/leaf\n",
    "            cluster2_size = 1\n",
    "        else:\n",
    "            cluster2_size = linkage_matrix[num_leaves - cluster2_id][-1]\n",
    "\n",
    "        # If a cluster is huge and is merged with a leaf, the weight should preference the cluster\n",
    "        # Can try different weighting here\n",
    "        weight = weight_function(cluster1_size, cluster2_size)\n",
    "\n",
    "        # merge the values for each index, 5 indexes\n",
    "        try:\n",
    "            merged_cluster_value = [merge_function(new_values[cluster1_id][i], new_values[cluster2_id][i], weight) for i in range(5)]\n",
    "        except:\n",
    "            print(\"INDEX OUT OF RANGE: \" + cluster1_id, cluster2_id, weight, cluster1_size, cluster2_size)\n",
    "\n",
    "        new_values.append(merged_cluster_value)\n",
    "\n",
    "    return new_values"
   ]
  },
  {
   "cell_type": "code",
   "execution_count": 11,
   "metadata": {},
   "outputs": [],
   "source": [
    "Z = linkage(list(embeddings.values()))\n",
    "leaf_values = [list(map(float,i)) for i in list(pca5_normalized.values())]\n",
    "\n",
    "all_values = create_link_values(Z, leaf_values)\n",
    "new_cluster_values = all_values[-len(Z):]"
   ]
  }
 ],
 "metadata": {
  "kernelspec": {
   "display_name": "Python 3",
   "language": "python",
   "name": "python3"
  },
  "language_info": {
   "codemirror_mode": {
    "name": "ipython",
    "version": 3
   },
   "file_extension": ".py",
   "mimetype": "text/x-python",
   "name": "python",
   "nbconvert_exporter": "python",
   "pygments_lexer": "ipython3",
   "version": "3.11.3"
  },
  "orig_nbformat": 4
 },
 "nbformat": 4,
 "nbformat_minor": 2
}
